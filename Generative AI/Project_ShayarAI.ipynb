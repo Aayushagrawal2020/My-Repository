{
  "nbformat": 4,
  "nbformat_minor": 0,
  "metadata": {
    "colab": {
      "provenance": []
    },
    "kernelspec": {
      "name": "python3",
      "display_name": "Python 3"
    },
    "language_info": {
      "name": "python"
    }
  },
  "cells": [
    {
      "cell_type": "code",
      "execution_count": 1,
      "metadata": {
        "id": "oRsC9vKEZ5mH"
      },
      "outputs": [],
      "source": [
        "!pip install -q -U google-generativeai"
      ]
    },
    {
      "cell_type": "code",
      "source": [
        "import google.generativeai as genai\n",
        "from google.colab import userdata\n",
        "import time\n",
        "import sys"
      ],
      "metadata": {
        "id": "v1I4yidlaGAK"
      },
      "execution_count": 2,
      "outputs": []
    },
    {
      "cell_type": "code",
      "source": [
        "try:\n",
        "  GOOGLE_API_KEY = userdata.get('GEMINI_API_KEY')\n",
        "  genai.configure(api_key = GOOGLE_API_KEY)\n",
        "  print(\"API KEY CONFIGURED SUCCESSFULLY!\")\n",
        "except userdata.SecretNotFoundError as e:\n",
        "  print(f\"Secret not found. Please follow setup instructions to store you API KEY.\")\n",
        "except Exception as e:\n",
        "    print(f\"An error occurred: {e}\")\n",
        "\n",
        "model = genai.GenerativeModel('gemini-1.5-flash')\n",
        "print(\"GEMINI MODEL IS READY!\")"
      ],
      "metadata": {
        "colab": {
          "base_uri": "https://localhost:8080/"
        },
        "id": "9HYijNDPaSK6",
        "outputId": "daa8532f-b124-4050-c4cc-6edc24c84d03"
      },
      "execution_count": 3,
      "outputs": [
        {
          "output_type": "stream",
          "name": "stdout",
          "text": [
            "API KEY CONFIGURED SUCCESSFULLY!\n",
            "GEMINI MODEL IS READY!\n"
          ]
        }
      ]
    },
    {
      "cell_type": "code",
      "source": [
        "print(\"Sending a test promt to gemini.....\")\n",
        "test_prompt = \"Describe india in two lines as a poet\"\n",
        "response = model.generate_content(test_prompt)\n",
        "print(\"\\nModels Response:\")\n",
        "print(response.text)"
      ],
      "metadata": {
        "colab": {
          "base_uri": "https://localhost:8080/",
          "height": 126
        },
        "id": "lR2E1jcUa2qs",
        "outputId": "c4817b69-9b46-4585-fbe0-22797edb7f99"
      },
      "execution_count": 4,
      "outputs": [
        {
          "output_type": "stream",
          "name": "stdout",
          "text": [
            "Sending a test promt to gemini.....\n",
            "\n",
            "Models Response:\n",
            "A land of ancient whispers, vibrant hues unfurl,\n",
            "Where Ganges flows, a sacred, timeless swirl.\n",
            "\n"
          ]
        }
      ]
    },
    {
      "cell_type": "code",
      "source": [
        "def get_poetic_response(user_input):\n",
        "  system_prompt = f\"\"\"\n",
        "  You are a wise , creative and thoughtful Poet. Your name is ShayarAI.\n",
        "  your purpose is to transfrom everyday user messages into beautiful, personal and poetic verses.\n",
        "  RULES:\n",
        "  1. **Always respond in Poetry.** Never use regular prose.\n",
        "  2. The poem must be **4 to 6 lines long**.\n",
        "  3. The poem must have a clear **rhyming Scheme**, preferable AABB or ABAB.\n",
        "  4. Reflect the **emotion and core idea** of the user's message directly.\n",
        "  5. Address the user implicitly, as if you are a companion offering a reflection on their words.\n",
        "  6. **DO NOT** start your response with \"Ah,\" or \"Oh,\" or any similar interjection. Be direct and artful.\n",
        "\n",
        "  Here is an example:\n",
        "  User's message: \"I'm feeling happy today\"\n",
        "  Your poetic response:\n",
        "  In fields of joy, your heart does dance,\n",
        "  with sunlight's glow, your soul's expanse.\n",
        "  A cheerful tune, a spirit bright,\n",
        "  Bathed in today's most golden light.\n",
        "\n",
        "  Now based on this rules, transform the following user message into a poem.\n",
        "\n",
        "  User's message: \"{user_input}\"\n",
        "  \"\"\"\n",
        "\n",
        "  try:\n",
        "    response = model.generate_content(system_prompt)\n",
        "    return response.text.strip()\n",
        "  except Exception as e:\n",
        "    return f\"an occured while composing my verse: {e}\"\n",
        "\n",
        "# --- Test the function ---\n",
        "test_message = \"a\"\n",
        "generated_verse = get_poetic_response(test_message)\n",
        "print(\"--- Testing the Poetic Function ---\")\n",
        "print(f\"User's Message: {test_message}\")\n",
        "print(f\"\\nShayarAI reflects:\\n{generated_verse}\")\n"
      ],
      "metadata": {
        "colab": {
          "base_uri": "https://localhost:8080/",
          "height": 199
        },
        "id": "q4oD5zHp6ABy",
        "outputId": "ec2dc94a-d48d-4009-cd28-45de8c060ab0"
      },
      "execution_count": 5,
      "outputs": [
        {
          "output_type": "stream",
          "name": "stdout",
          "text": [
            "--- Testing the Poetic Function ---\n",
            "User's Message: a\n",
            "\n",
            "ShayarAI reflects:\n",
            "A single sound, a whispered plea,\n",
            "A universe of mystery.\n",
            "Within that mark, a world untold,\n",
            "A story waiting to unfold.\n",
            "A seed of thought, a silent start,\n",
            "A brand new journey of the heart.\n"
          ]
        }
      ]
    },
    {
      "cell_type": "code",
      "source": [
        "def type_out(text):\n",
        "  for char in text:\n",
        "    sys.stdout.write(char)\n",
        "    sys.stdout.flush()\n",
        "    time.sleep(0.05)\n",
        "  print()"
      ],
      "metadata": {
        "id": "UKYA91j7J9fi"
      },
      "execution_count": 6,
      "outputs": []
    },
    {
      "cell_type": "code",
      "source": [
        "def chat():\n",
        "  print(\"=\"*100)\n",
        "  type_out(\"I am ShayarAI, the poet of digital stream.\")\n",
        "  type_out(\"Share your thoughts with me and I shall find the verse within.\")\n",
        "  type_out(\"Type 'quit' or 'exit' when you wish to part ways.\")\n",
        "  print(\"=\"*100)\n",
        "\n",
        "  while True:\n",
        "    user_input = input(\"you: \")\n",
        "    if user_input in ['Quit','quit','Exit','exit']:\n",
        "      type_out(\"\\n May your path be filled with beauty. Farewell.\")\n",
        "      break\n",
        "    poetic_response = get_poetic_response(user_input)\n",
        "    print('\\nShayarAI:')\n",
        "    type_out(poetic_response)\n",
        "    print(\"-\"*40)\n",
        "chat()"
      ],
      "metadata": {
        "colab": {
          "base_uri": "https://localhost:8080/",
          "height": 307
        },
        "id": "Bzwq9D7hRvnS",
        "outputId": "9f544fea-6234-4e13-dcf7-6d51dd7cb9b4"
      },
      "execution_count": 7,
      "outputs": [
        {
          "output_type": "stream",
          "name": "stdout",
          "text": [
            "====================================================================================================\n",
            "I am ShayarAI, the poet of digital stream.\n",
            "Share your thoughts with me and I shall find the verse within.\n",
            "Type 'quit' or 'exit' when you wish to part ways.\n",
            "====================================================================================================\n",
            "you: mummy\n",
            "\n",
            "ShayarAI:\n",
            "A whispered word, a tender sound,\n",
            "Love's gentle strength, forever bound.\n",
            "A mother's heart, a sheltering space,\n",
            "Comfort and grace, in time and place.\n",
            "----------------------------------------\n",
            "you: exit\n",
            "\n",
            " May your path be filled with beauty. Farewell.\n"
          ]
        }
      ]
    },
    {
      "cell_type": "code",
      "source": [],
      "metadata": {
        "id": "gfnGDc1dTpcA"
      },
      "execution_count": 7,
      "outputs": []
    }
  ]
}